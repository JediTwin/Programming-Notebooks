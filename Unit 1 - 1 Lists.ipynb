{
 "cells": [
  {
   "cell_type": "markdown",
   "metadata": {},
   "source": [
    "# `list`ing all the things I like about Python\n",
    "The `list` data type.\n",
    "\n",
    "![Gaming gif](https://media.giphy.com/media/MJ4Qi9dSACpLG/giphy.gif)"
   ]
  },
  {
   "cell_type": "markdown",
   "metadata": {},
   "source": [
    "---\n",
    "# Notes\n",
    "\n",
    "## Revisit Datatypes\n",
    "Name                  | Data Type | Example\n",
    "--------------------  | --------- | -------\n",
    "Integer               | `int`     | 7\n",
    "Floating-point number | `float`   | 3.5\n",
    "Boolean               | `bool`    | True or False (1 or 0)\n",
    "String                | `str`     | \"Mr. Ubial is cool.\"\n"
   ]
  },
  {
   "cell_type": "code",
   "execution_count": 4,
   "metadata": {},
   "outputs": [
    {
     "data": {
      "text/plain": [
       "str"
      ]
     },
     "execution_count": 4,
     "metadata": {},
     "output_type": "execute_result"
    }
   ],
   "source": [
    "# Use the type function to find out the types of things\n",
    "type(\"This is a string\")"
   ]
  },
  {
   "cell_type": "markdown",
   "metadata": {},
   "source": [
    "## The `list` datatype\n",
    "\n",
    "`lists` are types of data that have square brackets around them\n",
    "\n",
    "You can store different types of data inside.\n",
    "\n",
    "## Important Facts about Lists\n",
    "1. Lists are **ordered**\n",
    "2. You can put **different** data types inside lists\n",
    "3. You can also create lists on-the-fly"
   ]
  },
  {
   "cell_type": "code",
   "execution_count": 10,
   "metadata": {},
   "outputs": [
    {
     "data": {
      "text/plain": [
       "list"
      ]
     },
     "execution_count": 10,
     "metadata": {},
     "output_type": "execute_result"
    }
   ],
   "source": [
    "some_list = [1, 2, 3, 4, 5, 6, 7]\n",
    "type(some_list)"
   ]
  },
  {
   "cell_type": "code",
   "execution_count": 1,
   "metadata": {},
   "outputs": [
    {
     "data": {
      "text/plain": [
       "'sodium'"
      ]
     },
     "execution_count": 1,
     "metadata": {},
     "output_type": "execute_result"
    }
   ],
   "source": [
    "# index 0th       1st              2nd      3rd\n",
    "elements = [\"helium\", \"rutherfordium\", \"neon\", \"sodium\"]\n",
    "elements[3]\n",
    "# we can access things inside the list with INDICES"
   ]
  },
  {
   "cell_type": "code",
   "execution_count": 16,
   "metadata": {},
   "outputs": [
    {
     "data": {
      "text/plain": [
       "tuple"
      ]
     },
     "execution_count": 16,
     "metadata": {},
     "output_type": "execute_result"
    }
   ],
   "source": [
    "other_list = (\"Hydrogen\", \"Helium\", \"Sodium\", \"Potassium\")\n",
    "other_list[0]\n",
    "type(other_list) # THIS IS A TUPLE"
   ]
  },
  {
   "cell_type": "code",
   "execution_count": 2,
   "metadata": {},
   "outputs": [
    {
     "ename": "TypeError",
     "evalue": "'tuple' object does not support item assignment",
     "output_type": "error",
     "traceback": [
      "\u001b[0;31m---------------------------------------------------------------------------\u001b[0m",
      "\u001b[0;31mTypeError\u001b[0m                                 Traceback (most recent call last)",
      "\u001b[0;32m/var/folders/p5/q6928l7j0_x06z6m7ms2zs0w0000gv/T/ipykernel_6074/444487635.py\u001b[0m in \u001b[0;36m<module>\u001b[0;34m\u001b[0m\n\u001b[1;32m      1\u001b[0m \u001b[0;31m# Tuples are immutable\u001b[0m\u001b[0;34m\u001b[0m\u001b[0;34m\u001b[0m\u001b[0;34m\u001b[0m\u001b[0m\n\u001b[1;32m      2\u001b[0m \u001b[0mSCREEN_DIMENSIONS\u001b[0m \u001b[0;34m=\u001b[0m \u001b[0;34m(\u001b[0m\u001b[0;36m2560\u001b[0m\u001b[0;34m,\u001b[0m \u001b[0;36m1440\u001b[0m\u001b[0;34m)\u001b[0m\u001b[0;34m\u001b[0m\u001b[0;34m\u001b[0m\u001b[0m\n\u001b[0;32m----> 3\u001b[0;31m \u001b[0mSCREEN_DIMENSIONS\u001b[0m\u001b[0;34m[\u001b[0m\u001b[0;36m1\u001b[0m\u001b[0;34m]\u001b[0m \u001b[0;34m=\u001b[0m \u001b[0;36m2160\u001b[0m\u001b[0;34m\u001b[0m\u001b[0;34m\u001b[0m\u001b[0m\n\u001b[0m",
      "\u001b[0;31mTypeError\u001b[0m: 'tuple' object does not support item assignment"
     ]
    }
   ],
   "source": [
    "# Tuples are immutable\n",
    "SCREEN_DIMENSIONS = (2560, 1440)\n",
    "SCREEN_DIMENSIONS[1] = 2160"
   ]
  },
  {
   "cell_type": "markdown",
   "metadata": {},
   "source": [
    "**`lists`** and **`tuples`** are datatypes that can contain   \n",
    "more than one value.\n",
    "\n",
    "The main difference between `lists` and  \n",
    "`tuples` are that `lists` are **mutable**.\n",
    "\n",
    "**Mutability** is a property that describes  \n",
    "whether or not you can change a value."
   ]
  },
  {
   "cell_type": "code",
   "execution_count": 18,
   "metadata": {},
   "outputs": [
    {
     "name": "stdout",
     "output_type": "stream",
     "text": [
      "25\n",
      "30\n"
     ]
    }
   ],
   "source": [
    "number_list = [10, 20, 25]\n",
    "print(number_list[2])  # 25\n",
    "number_list[2] = 30\n",
    "print(number_list[2])  # CHANGED TO 35"
   ]
  },
  {
   "cell_type": "code",
   "execution_count": 20,
   "metadata": {},
   "outputs": [
    {
     "name": "stdout",
     "output_type": "stream",
     "text": [
      "255\n"
     ]
    },
    {
     "ename": "TypeError",
     "evalue": "'tuple' object does not support item assignment",
     "output_type": "error",
     "traceback": [
      "\u001b[0;31m---------------------------------------------------------------------------\u001b[0m",
      "\u001b[0;31mTypeError\u001b[0m                                 Traceback (most recent call last)",
      "\u001b[0;32m<ipython-input-20-c6568c070e69>\u001b[0m in \u001b[0;36m<module>\u001b[0;34m\u001b[0m\n\u001b[1;32m      1\u001b[0m \u001b[0mrgb\u001b[0m \u001b[0;34m=\u001b[0m \u001b[0;34m(\u001b[0m\u001b[0;36m255\u001b[0m\u001b[0;34m,\u001b[0m \u001b[0;36m255\u001b[0m\u001b[0;34m,\u001b[0m \u001b[0;36m255\u001b[0m\u001b[0;34m)\u001b[0m\u001b[0;34m\u001b[0m\u001b[0;34m\u001b[0m\u001b[0m\n\u001b[1;32m      2\u001b[0m \u001b[0mprint\u001b[0m\u001b[0;34m(\u001b[0m\u001b[0mrgb\u001b[0m\u001b[0;34m[\u001b[0m\u001b[0;36m0\u001b[0m\u001b[0;34m]\u001b[0m\u001b[0;34m)\u001b[0m          \u001b[0;31m# 255\u001b[0m\u001b[0;34m\u001b[0m\u001b[0;34m\u001b[0m\u001b[0m\n\u001b[0;32m----> 3\u001b[0;31m \u001b[0mrgb\u001b[0m\u001b[0;34m[\u001b[0m\u001b[0;36m0\u001b[0m\u001b[0;34m]\u001b[0m \u001b[0;34m=\u001b[0m \u001b[0;36m0\u001b[0m             \u001b[0;31m# this will BREAK\u001b[0m\u001b[0;34m\u001b[0m\u001b[0;34m\u001b[0m\u001b[0m\n\u001b[0m",
      "\u001b[0;31mTypeError\u001b[0m: 'tuple' object does not support item assignment"
     ]
    }
   ],
   "source": [
    "rgb = (255, 255, 255)\n",
    "print(rgb[0])          # 255\n",
    "rgb[0] = 0             # this will BREAK"
   ]
  },
  {
   "cell_type": "markdown",
   "metadata": {},
   "source": [
    "## Iterating over `lists`\n",
    "It's really useful to loop through items  \n",
    "inside lists. You can do that using  \n",
    "a specific type of `for` loop.\n",
    "\n",
    "`for` _individual element_ `in` _list_:"
   ]
  },
  {
   "cell_type": "code",
   "execution_count": 3,
   "metadata": {
    "tags": []
   },
   "outputs": [
    {
     "name": "stdout",
     "output_type": "stream",
     "text": [
      "You're going to need chips.\n",
      "-------\n",
      "You're going to need ice cream.\n",
      "-------\n",
      "You're going to need shallots.\n",
      "-------\n",
      "You're going to need sugary cereal.\n",
      "-------\n",
      "You're going to need hot wheels.\n",
      "-------\n",
      "You're going to need shampoo.\n",
      "-------\n"
     ]
    }
   ],
   "source": [
    "grocery_list = [\n",
    "    \"chips\",\n",
    "    \"ice cream\",\n",
    "    \"shallots\",\n",
    "    \"sugary cereal\",\n",
    "    \"hot wheels\",\n",
    "    \"shampoo\",\n",
    "]\n",
    "# for each item in the list write out\n",
    "# You're going to need before the item\n",
    "for item in grocery_list:\n",
    "    print(f\"You're going to need {item}.\")\n",
    "    print(\"-------\")"
   ]
  },
  {
   "cell_type": "code",
   "execution_count": 23,
   "metadata": {
    "tags": []
   },
   "outputs": [
    {
     "name": "stdout",
     "output_type": "stream",
     "text": [
      "148\n",
      "Average age = 16.444444444444443\n"
     ]
    }
   ],
   "source": [
    "# Calculate the age of a person\n",
    "age_list = [16, 17, 16, 17, 17, 17, 16, 16, 16]\n",
    "total = 0\n",
    "\n",
    "for age in age_list:\n",
    "    total += age\n",
    "\n",
    "print(total)\n",
    "print(f\"Average age = {total/len(age_list)}\")"
   ]
  },
  {
   "cell_type": "code",
   "execution_count": 4,
   "metadata": {},
   "outputs": [
    {
     "name": "stdout",
     "output_type": "stream",
     "text": [
      "16.444444444444443\n"
     ]
    }
   ],
   "source": [
    "age_list = [16, 17, 16, 17, 17, 17, 16, 16, 16]\n",
    "\n",
    "print(sum(age_list)/len(age_list))"
   ]
  },
  {
   "cell_type": "markdown",
   "metadata": {},
   "source": [
    "## Two-Dimensional `list`s"
   ]
  },
  {
   "cell_type": "code",
   "execution_count": 27,
   "metadata": {
    "tags": []
   },
   "outputs": [
    {
     "name": "stdout",
     "output_type": "stream",
     "text": [
      "Name: John Schmetterling\n",
      "Student Number: 100001\n",
      "--------\n",
      "Name: Donald J. Trumper\n",
      "Student Number: 100002\n",
      "--------\n",
      "Name: Joseph Biden\n",
      "Student Number: 100003\n",
      "--------\n",
      "Name: Sanic\n",
      "Student Number: 100004\n",
      "--------\n"
     ]
    }
   ],
   "source": [
    "student_list = [\n",
    "    [100001, \"John Schmetterling\"],\n",
    "    [100002, \"Donald J. Trumper\"],\n",
    "    [100003, \"Joseph Biden\"],\n",
    "    [100004, \"Sanic\"]\n",
    "]\n",
    "\n",
    "student_list[3][1] # how to access values\n",
    "\n",
    "for student in student_list:\n",
    "    print(f\"Name: {student[1]}\")\n",
    "    print(f\"Student Number: {student[0]}\")\n",
    "    print(\"--------\")"
   ]
  },
  {
   "cell_type": "markdown",
   "metadata": {},
   "source": [
    "## `len()` function\n",
    "`len()` returns the length of a list\n",
    "\n",
    "i.e. it tells you how **BIG** the list is"
   ]
  },
  {
   "cell_type": "code",
   "execution_count": 1,
   "metadata": {},
   "outputs": [
    {
     "data": {
      "text/plain": [
       "12"
      ]
     },
     "execution_count": 1,
     "metadata": {},
     "output_type": "execute_result"
    }
   ],
   "source": [
    "len([0, 1, 2, 3, 4, 5, 6, 7, 8, 9, 10, 11])"
   ]
  },
  {
   "cell_type": "code",
   "execution_count": 4,
   "metadata": {},
   "outputs": [
    {
     "data": {
      "text/plain": [
       "[0,\n",
       " 0,\n",
       " 0,\n",
       " 0,\n",
       " 0,\n",
       " 0,\n",
       " 0,\n",
       " 0,\n",
       " 0,\n",
       " 0,\n",
       " 0,\n",
       " 0,\n",
       " 0,\n",
       " 0,\n",
       " 0,\n",
       " 0,\n",
       " 0,\n",
       " 0,\n",
       " 0,\n",
       " 0,\n",
       " 0,\n",
       " 0,\n",
       " 0,\n",
       " 0,\n",
       " 0,\n",
       " 0,\n",
       " 0,\n",
       " 0,\n",
       " 0,\n",
       " 0,\n",
       " 0,\n",
       " 0,\n",
       " 0,\n",
       " 0,\n",
       " 0,\n",
       " 0,\n",
       " 0,\n",
       " 0,\n",
       " 0,\n",
       " 0,\n",
       " 0,\n",
       " 0,\n",
       " 0,\n",
       " 0,\n",
       " 0,\n",
       " 0,\n",
       " 0,\n",
       " 0,\n",
       " 0,\n",
       " 0,\n",
       " 0,\n",
       " 0,\n",
       " 0,\n",
       " 0,\n",
       " 0,\n",
       " 0,\n",
       " 0,\n",
       " 0,\n",
       " 0,\n",
       " 0,\n",
       " 0,\n",
       " 0,\n",
       " 0,\n",
       " 0,\n",
       " 0,\n",
       " 0,\n",
       " 0,\n",
       " 0,\n",
       " 0,\n",
       " 0,\n",
       " 0,\n",
       " 0,\n",
       " 0,\n",
       " 0,\n",
       " 0,\n",
       " 0,\n",
       " 0,\n",
       " 0,\n",
       " 0,\n",
       " 0,\n",
       " 0,\n",
       " 0,\n",
       " 0,\n",
       " 0,\n",
       " 0,\n",
       " 0,\n",
       " 0,\n",
       " 0,\n",
       " 0,\n",
       " 0,\n",
       " 0,\n",
       " 0,\n",
       " 0,\n",
       " 0,\n",
       " 0,\n",
       " 0,\n",
       " 0,\n",
       " 0,\n",
       " 0,\n",
       " 0]"
      ]
     },
     "execution_count": 4,
     "metadata": {},
     "output_type": "execute_result"
    }
   ],
   "source": [
    "# ADVANCED concept\n",
    "# create (initialize) a list of 100 0s\n",
    "zero_list = [0] * 100\n",
    "zero_list "
   ]
  },
  {
   "cell_type": "markdown",
   "metadata": {},
   "source": [
    "## Aside: List Comprehensions (__Advanced__)\n",
    "\n",
    "If you want to create a for loop in one line, you can use a list comprehension."
   ]
  },
  {
   "cell_type": "code",
   "execution_count": 34,
   "metadata": {},
   "outputs": [
    {
     "data": {
      "text/plain": [
       "100"
      ]
     },
     "execution_count": 34,
     "metadata": {},
     "output_type": "execute_result"
    }
   ],
   "source": [
    "string_list = [\"googely moogely\" for i in range(100)]\n",
    "len(string_list)"
   ]
  },
  {
   "cell_type": "code",
   "execution_count": 6,
   "metadata": {},
   "outputs": [],
   "source": [
    "# list ascending from 1 to 100\n",
    "# ----- Version 1\n",
    "ascending_list = [2**(i+1) for i in range(100)]\n",
    "ascending_list\n",
    "\n",
    "# ----- Version 2\n",
    "ascending_list_two = []\n",
    "\n",
    "for i in range(100):\n",
    "    ascending_list_two.append(i+1)\n",
    "# ascending_list_two"
   ]
  },
  {
   "cell_type": "markdown",
   "metadata": {},
   "source": [
    "## `sum()` function"
   ]
  },
  {
   "cell_type": "code",
   "execution_count": 49,
   "metadata": {},
   "outputs": [
    {
     "data": {
      "text/plain": [
       "5050"
      ]
     },
     "execution_count": 49,
     "metadata": {},
     "output_type": "execute_result"
    }
   ],
   "source": [
    "# sum() takes a list and (if it contains numbers) adds them all up\n",
    "sum([1, 2, 3, 4, 5, 6])\n",
    "sum([i+1 for i in range(100)]) # add all numbers from 1-100"
   ]
  },
  {
   "cell_type": "markdown",
   "metadata": {},
   "source": [
    "## `enumerate()` function"
   ]
  },
  {
   "cell_type": "code",
   "execution_count": 12,
   "metadata": {},
   "outputs": [
    {
     "name": "stdout",
     "output_type": "stream",
     "text": [
      "BEFORE: ['dog', 'cat', 'rat', 'bat']\n",
      "AFTER: ['dog', 'coyote', 'rat', 'bat']\n",
      "Index: 0; Value: dog\n",
      "Index: 1; Value: coyote\n",
      "Index: 2; Value: rat\n",
      "Index: 3; Value: bat\n"
     ]
    }
   ],
   "source": [
    "some_list = [\"dog\", \"cat\", \"rat\", \"bat\"]\n",
    "enumerate(some_list)\n",
    "\n",
    "# Replace all \"cat\"s with \"coyote\"s\n",
    "print(f\"BEFORE: {some_list}\")\n",
    "\n",
    "# THIS WON'T WORK\n",
    "# for item in some_list:\n",
    "#     if item == \"cat\":\n",
    "#         item = \"coyote\"\n",
    "\n",
    "for idx, item in enumerate(some_list):\n",
    "    if item == \"cat\":\n",
    "        some_list[idx] = \"coyote\"\n",
    "\n",
    "print(f\"AFTER: {some_list}\")\n",
    "\n",
    "for idx, item in enumerate(some_list):\n",
    "    print(f\"Index: {idx}; Value: {item}\")"
   ]
  },
  {
   "cell_type": "markdown",
   "metadata": {},
   "source": [
    "## Adding to a `list`\n",
    "This is the best way to add to a list.  \n",
    "Use the `.append()` method."
   ]
  },
  {
   "cell_type": "code",
   "execution_count": null,
   "metadata": {},
   "outputs": [],
   "source": [
    "student_list = [\n",
    "    [0, \"Mr. Ubial\"],\n",
    "    [1, \"Peter Parker\"]\n",
    "]\n",
    "\n",
    "print(student_list[-1])\n",
    "student_list.append([2, \"Otto Octavius\"])\n",
    "print(student_list[-1])"
   ]
  },
  {
   "cell_type": "markdown",
   "metadata": {},
   "source": [
    "## Deleting from a `list`\n",
    "Use the `.pop()` function.\n",
    "\n",
    "`.pop()` returns the value of the item in the list."
   ]
  },
  {
   "cell_type": "code",
   "execution_count": 60,
   "metadata": {
    "tags": []
   },
   "outputs": [
    {
     "data": {
      "text/plain": [
       "[2, 'Otto Octavius']"
      ]
     },
     "execution_count": 60,
     "metadata": {},
     "output_type": "execute_result"
    }
   ],
   "source": [
    "student_list = [\n",
    "    [0, \"Mr. Ubial\"],\n",
    "    [1, \"Peter Parker\"],\n",
    "    [2, \"Otto Octavius\"]\n",
    "]\n",
    "\n",
    "student_list.pop(2)"
   ]
  },
  {
   "cell_type": "markdown",
   "metadata": {},
   "source": [
    "## `str`s are just `list`s of characters"
   ]
  },
  {
   "cell_type": "code",
   "execution_count": 62,
   "metadata": {
    "tags": []
   },
   "outputs": [
    {
     "name": "stdout",
     "output_type": "stream",
     "text": [
      "T\n",
      "T i m "
     ]
    }
   ],
   "source": [
    "my_name = \"Tim\"\n",
    "print(my_name[0])\n",
    "\n",
    "for char in my_name:\n",
    "    print(char, end=\" \")"
   ]
  },
  {
   "cell_type": "markdown",
   "metadata": {},
   "source": [
    "## Slices of `list`s and `str`s"
   ]
  },
  {
   "cell_type": "code",
   "execution_count": 64,
   "metadata": {},
   "outputs": [
    {
     "data": {
      "text/plain": [
       "'9'"
      ]
     },
     "execution_count": 64,
     "metadata": {},
     "output_type": "execute_result"
    }
   ],
   "source": [
    "number_string = \"123456789\"\n",
    "\n",
    "# last element (character) in number_string\n",
    "number_string[-1]"
   ]
  },
  {
   "cell_type": "code",
   "execution_count": 66,
   "metadata": {},
   "outputs": [
    {
     "name": "stdout",
     "output_type": "stream",
     "text": [
      "564789\n",
      "1234\n"
     ]
    }
   ],
   "source": [
    "number_string = \"1234564789\"\n",
    "\n",
    "# slice the string\n",
    "# [start:stop:step]\n",
    "\n",
    "print(number_string[4:])    # characters starting at index 4 to the end\n",
    "print(number_string[:4])    # characters starting at beginning ending at 4 (exclusive) \n"
   ]
  },
  {
   "cell_type": "code",
   "execution_count": 67,
   "metadata": {},
   "outputs": [
    {
     "name": "stdout",
     "output_type": "stream",
     "text": [
      "13579\n"
     ]
    }
   ],
   "source": [
    "number_string = \"123456789\"\n",
    "\n",
    "print(number_string[::2])   # every second element starting at 1"
   ]
  },
  {
   "cell_type": "markdown",
   "metadata": {},
   "source": [
    "# Exercises"
   ]
  },
  {
   "cell_type": "markdown",
   "metadata": {},
   "source": [
    "## Comma Code\n",
    "\n",
    "From [Automate the Boring Stuff](https://automatetheboringstuff.com)\n",
    "\n",
    "Say you have a list value like this:\n",
    "\n",
    "`spam = ['apples', 'bananas', 'tofu', 'cats']`\n",
    "\n",
    "Write a function that takes a list value as an argument and returns a string with all the items separated by a comma and a space, with `and` inserted before the last item. For example, passing the previous spam list to the function would return 'apples, bananas, tofu, and cats'. But your function should be able to work with any list value passed to it. Be sure to test the case where an empty list `[]` is passed to your function."
   ]
  },
  {
   "cell_type": "code",
   "execution_count": 71,
   "metadata": {},
   "outputs": [
    {
     "name": "stdout",
     "output_type": "stream",
     "text": [
      "apples, bananas, tofu, and cats\n"
     ]
    }
   ],
   "source": [
    "spam = [\"apples\", \"bananas\", \"tofu\", \"cats\"]\n",
    "\n",
    "output_string = \"\"\n",
    "\n",
    "for idx, item in enumerate(spam):\n",
    "    if idx == len(spam)-1:\n",
    "        output_string += \"and \" + item\n",
    "    else:\n",
    "        output_string += item + \", \"\n",
    "\n",
    "print(output_string)\n",
    "\n",
    "\n",
    "\n",
    "# should output \n",
    "# \"apples, bananas, tofu, and cats\"\n",
    "# to start, try just outputting\n",
    "# \"apples, bananas, tofu, cats\""
   ]
  },
  {
   "cell_type": "markdown",
   "metadata": {},
   "source": [
    "## Months\n",
    "\n",
    "Print the three month abbreviation for the  \n",
    "month number that the user enters."
   ]
  },
  {
   "cell_type": "code",
   "execution_count": null,
   "metadata": {},
   "outputs": [],
   "source": [
    "# 1 -> Jan (using the list above)\n",
    "# 12 -> Dec\n",
    "\n",
    "# extending -> everything works and catch for any month_num that don't exist\n",
    "def month_abbrev(month_num):\n",
    "    months = \"JanFebMarAprMayJunJulAugSepOctNovDec\"\n",
    "\n",
    "    # fill in the body of the function\n",
    "\n",
    "month_abbrev(10) # Nov"
   ]
  }
 ],
 "metadata": {
  "kernelspec": {
   "display_name": "Python 3 (ipykernel)",
   "language": "python",
   "name": "python3"
  },
  "language_info": {
   "codemirror_mode": {
    "name": "ipython",
    "version": 3
   },
   "file_extension": ".py",
   "mimetype": "text/x-python",
   "name": "python",
   "nbconvert_exporter": "python",
   "pygments_lexer": "ipython3",
   "version": "3.8.9"
  }
 },
 "nbformat": 4,
 "nbformat_minor": 4
}
