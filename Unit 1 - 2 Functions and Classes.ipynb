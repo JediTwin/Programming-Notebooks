{
 "cells": [
  {
   "cell_type": "markdown",
   "metadata": {},
   "source": [
    "# 1.2 Functions and Classes\n",
    "\n",
    "![](https://media.giphy.com/media/13HgwGsXF0aiGY/giphy.gif)"
   ]
  },
  {
   "cell_type": "markdown",
   "metadata": {},
   "source": [
    "## Goals\n",
    "\n",
    "* get reintroduced to _functions_\n",
    "* get introduced to _classes_ and _objects_\n",
    "* apply _functions and classes_"
   ]
  },
  {
   "cell_type": "markdown",
   "metadata": {},
   "source": [
    "---\n",
    "## Functions\n",
    "\n",
    "These operate the same way as a mathematical function.  \n",
    "Functions have an input (arguments) and an output (return values)."
   ]
  },
  {
   "cell_type": "code",
   "execution_count": null,
   "metadata": {},
   "outputs": [],
   "source": []
  },
  {
   "cell_type": "markdown",
   "metadata": {},
   "source": [
    "### Style\n",
    "\n",
    "There's a certain way we can write functions  \n",
    "so that they're readable and to help guide  \n",
    "us in what we're actually doing.\n",
    "\n",
    "_We're going to use the Google style of docstring._"
   ]
  },
  {
   "cell_type": "code",
   "execution_count": null,
   "metadata": {},
   "outputs": [],
   "source": [
    "  "
   ]
  },
  {
   "cell_type": "code",
   "execution_count": null,
   "metadata": {},
   "outputs": [],
   "source": []
  },
  {
   "cell_type": "markdown",
   "metadata": {},
   "source": [
    "### Exercise: \n",
    "\n",
    "Write a __Python function__ that __takes three numbers__.  \n",
    "It should return the __biggest of the three numbers__.  \n",
    "Be sure to __include a Google style docstring__."
   ]
  },
  {
   "cell_type": "code",
   "execution_count": null,
   "metadata": {},
   "outputs": [],
   "source": []
  },
  {
   "cell_type": "markdown",
   "metadata": {},
   "source": [
    "## Classes and Objects\n",
    "\n",
    "Classes are things in Python that allow us to  \n",
    "bundle data and functions together.\n",
    "\n",
    "Objects are the actual representation of the classes  \n",
    "in our Python scripts.\n",
    "\n",
    "### Properties\n",
    "\n",
    "Properties are the __data__ that defines a particular class.\n",
    "\n",
    "### Methods\n",
    "\n",
    "Methods are the __functions__ that define what a particular  \n",
    "class can do."
   ]
  },
  {
   "cell_type": "code",
   "execution_count": null,
   "metadata": {},
   "outputs": [],
   "source": []
  }
 ],
 "metadata": {
  "kernelspec": {
   "display_name": "Python 3 (ipykernel)",
   "language": "python",
   "name": "python3"
  },
  "language_info": {
   "codemirror_mode": {
    "name": "ipython",
    "version": 3
   },
   "file_extension": ".py",
   "mimetype": "text/x-python",
   "name": "python",
   "nbconvert_exporter": "python",
   "pygments_lexer": "ipython3",
   "version": "3.8.9"
  }
 },
 "nbformat": 4,
 "nbformat_minor": 4
}
